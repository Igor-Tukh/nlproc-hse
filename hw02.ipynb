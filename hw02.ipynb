{
 "cells": [
  {
   "cell_type": "markdown",
   "metadata": {},
   "source": [
    "## HSE natural language processing\n",
    "### HW 02"
   ]
  },
  {
   "cell_type": "code",
   "execution_count": 52,
   "metadata": {},
   "outputs": [],
   "source": [
    "import os\n",
    "import string\n",
    "import numpy as np"
   ]
  },
  {
   "cell_type": "code",
   "execution_count": 51,
   "metadata": {},
   "outputs": [],
   "source": [
    "from tqdm import tqdm_notebook as tqdm\n",
    "from collections import defaultdict"
   ]
  },
  {
   "cell_type": "code",
   "execution_count": 30,
   "metadata": {},
   "outputs": [],
   "source": [
    "RESOURCES_PATH = './resources'\n",
    "TRAIN_TEXTS_PATH = os.path.join(RESOURCES_PATH, 'texts_train.txt')\n",
    "TRAIN_SCORES_PATH = os.path.join(RESOURCES_PATH, 'scores_train.txt')\n",
    "TEST_INPUT_FILENAME = os.path.join(RESOURCES_PATH, 'test.in')\n",
    "TEST_OUTPUT_FILENAME = os.path.join(RESOURCES_PATH, 'test.out')"
   ]
  },
  {
   "cell_type": "code",
   "execution_count": 27,
   "metadata": {},
   "outputs": [],
   "source": [
    "def load_scores():\n",
    "    with open(TRAIN_SCORES_PATH, 'r') as scores_file:\n",
    "        return np.array(list(map(int, scores_file.readlines())))"
   ]
  },
  {
   "cell_type": "code",
   "execution_count": 28,
   "metadata": {},
   "outputs": [],
   "source": [
    "def load_texts():\n",
    "    with open(TRAIN_TEXTS_PATH, 'r') as texts_file:\n",
    "        return np.array(texts_file.readlines())"
   ]
  },
  {
   "cell_type": "code",
   "execution_count": 35,
   "metadata": {},
   "outputs": [],
   "source": [
    "def run_task(evaluator):\n",
    "    with open(TEST_INPUT_FILENAME, 'r') as input_file:\n",
    "        with open(TEST_OUTPUT_FILENAME, 'w') as output_file:\n",
    "            for line in input_file.readlines():\n",
    "                output_file.write(evaluator(line))\n",
    "                output_file.write(os.linesep)"
   ]
  },
  {
   "cell_type": "markdown",
   "metadata": {},
   "source": [
    "#### Base approach: average mark"
   ]
  },
  {
   "cell_type": "code",
   "execution_count": 49,
   "metadata": {},
   "outputs": [
    {
     "name": "stdout",
     "output_type": "stream",
     "text": [
      "Average mark: 8\n"
     ]
    }
   ],
   "source": [
    "avg_mark = int(round(load_scores().mean()))\n",
    "print('Average mark: {}'.format(avg_mark))"
   ]
  },
  {
   "cell_type": "code",
   "execution_count": 50,
   "metadata": {},
   "outputs": [],
   "source": [
    "run_task(lambda sentence: str(avg_mark))"
   ]
  },
  {
   "cell_type": "markdown",
   "metadata": {},
   "source": [
    "#### Simple approach: avreage unigram mark"
   ]
  },
  {
   "cell_type": "code",
   "execution_count": 58,
   "metadata": {},
   "outputs": [
    {
     "data": {
      "application/vnd.jupyter.widget-view+json": {
       "model_id": "8f42a8f6a2d0402e9f443472a8be25ee",
       "version_major": 2,
       "version_minor": 0
      },
      "text/plain": [
       "HBox(children=(IntProgress(value=1, bar_style='info', max=1), HTML(value='')))"
      ]
     },
     "metadata": {},
     "output_type": "display_data"
    },
    {
     "name": "stdout",
     "output_type": "stream",
     "text": [
      "сериал очень люблю, но академия и земля вызывает у меня отторжение идеей... не люблю, когда принижают ценность человека как личности, даже не смотря на ошибки личности...\n"
     ]
    }
   ],
   "source": [
    "marks = defaultdict(lambda: 0)\n",
    "\n",
    "for text, score in tqdm(zip(load_texts(), load_scores())):\n",
    "    text = text.lower().replace(os.linesep, '')\n",
    "    tokens = text.split(string.punctuation)\n",
    "    print(text)\n",
    "    break"
   ]
  },
  {
   "cell_type": "code",
   "execution_count": null,
   "metadata": {},
   "outputs": [],
   "source": []
  }
 ],
 "metadata": {
  "kernelspec": {
   "display_name": "Python 3",
   "language": "python",
   "name": "python3"
  },
  "language_info": {
   "codemirror_mode": {
    "name": "ipython",
    "version": 3
   },
   "file_extension": ".py",
   "mimetype": "text/x-python",
   "name": "python",
   "nbconvert_exporter": "python",
   "pygments_lexer": "ipython3",
   "version": "3.7.4"
  }
 },
 "nbformat": 4,
 "nbformat_minor": 2
}
